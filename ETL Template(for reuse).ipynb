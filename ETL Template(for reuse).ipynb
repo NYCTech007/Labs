{
 "cells": [
  {
   "cell_type": "markdown",
   "id": "2808acaf",
   "metadata": {},
   "source": [
    "<H1><font color='orange'>My ETL Template</font></H1>\n",
    "J Robinson\n"
   ]
  },
  {
   "cell_type": "code",
   "execution_count": null,
   "id": "0f46f5bb",
   "metadata": {},
   "outputs": [],
   "source": [
    "#ETL imports\n",
    "\n",
    "import glob \n",
    "import pandas as pd \n",
    "import xml.etree.ElementTree as ET \n",
    "from datetime import datetime"
   ]
  },
  {
   "cell_type": "code",
   "execution_count": null,
   "id": "18e602fc",
   "metadata": {},
   "outputs": [],
   "source": [
    "#variables from files\n",
    "tmpfile    = \"####FIleHERE###_temp.tmp\"               # store all extracted data\n",
    "logfile    = \"##filehere####_logfile.txt\"            # all event logs will be stored\n",
    "targetfile = \"##filehere####_transformed_data.csv\"   # transformed data is stored"
   ]
  },
  {
   "cell_type": "code",
   "execution_count": null,
   "id": "df8a76c3",
   "metadata": {},
   "outputs": [],
   "source": [
    "#CSV Extraction\n",
    "def extract_from_csv(file_to_process): \n",
    "    dataframe = pd.read_csv(file_to_process) \n",
    "    return dataframe"
   ]
  },
  {
   "cell_type": "code",
   "execution_count": null,
   "id": "e9a504a9",
   "metadata": {},
   "outputs": [],
   "source": [
    "#JSon Extraction\n",
    "def extract_from_json(file_to_process):\n",
    "    dataframe = pd.read_json(file_to_process,lines=True)\n",
    "    return dataframe"
   ]
  },
  {
   "cell_type": "code",
   "execution_count": null,
   "id": "79d48f44",
   "metadata": {},
   "outputs": [],
   "source": [
    "#XML Extraction\n",
    "def extract_from_xml(file_to_process):\n",
    "    dataframe = pd.DataFrame(columns=['##columnhere####','##columnhere####','##columnhere####', '##columnhere####'])\n",
    "    tree = ET.parse(file_to_process) \n",
    "    root = tree.getroot() \n",
    "    for varible2  in root: \n",
    "        varible2 = varible2 .find(\"##columnhere####\").text \n",
    "        varible3 = int(varible2.find(\"##columnhere####\").text)\n",
    "        varible4 = float(varible2.find(\"##columnhere####\").text) \n",
    "        varible5 = varible2.find(\"##columnhere####\").text \n",
    "        dataframe = dataframe.append({\"columnnametoreplace\":newcolumnname, columnhere:newcolumnname, \"columnnametoreplace\":newcolumnname, \"columnnametoreplace\":newcolumnname}, ignore_index=True) \n",
    "        return dataframe\n"
   ]
  },
  {
   "cell_type": "code",
   "execution_count": null,
   "id": "124f4dfc",
   "metadata": {},
   "outputs": [],
   "source": [
    "def extract():\n",
    "       extracted_data = pd.DataFrame(columns=['##columnhere####','##columnhere####','##columnhere####', '##columnhere####']) \n",
    "    #for csv files\n",
    "      for csvfile in glob.glob(\"##filehere####/*.csv\"):\n",
    "          extracted_data = extracted_data.append(extract_from_csv(csvfile), ignore_index=True)\n",
    "    #for json files\n",
    "      for jsonfile in glob.glob(\"##filehere####/*.json\"):\n",
    "          extracted_data = extracted_data.append(extract_from_json(jsonfile), ignore_index=True)\n",
    "    #for xml files\n",
    "      for xmlfile in glob.glob(\"##filehere####/*.xml\"):\n",
    "          extracted_data = extracted_data.append(extract_from_xml(xmlfile), ignore_index=True)\n",
    "      return extracted_data\n"
   ]
  },
  {
   "cell_type": "code",
   "execution_count": null,
   "id": "0dd88060",
   "metadata": {},
   "outputs": [],
   "source": [
    "def transform(data):\n",
    "       data['###intcolumnhere###'] = round(data.price, 2)\n",
    "       return data"
   ]
  },
  {
   "cell_type": "code",
   "execution_count": null,
   "id": "9fbd3e3e",
   "metadata": {},
   "outputs": [],
   "source": [
    "def load(targetfile,data_to_load):\n",
    "    data_to_load.to_csv(targetfile)"
   ]
  },
  {
   "cell_type": "code",
   "execution_count": null,
   "id": "f4947f44",
   "metadata": {},
   "outputs": [],
   "source": [
    "def log(message):\n",
    "    timestamp_format = '%H:%M:%S-%h-%d-%Y'\n",
    "    #Hour-Minute-Second-MonthName-Day-Year\n",
    "    now = datetime.now() # get current timestamp\n",
    "    timestamp = now.strftime(timestamp_format)\n",
    "    with open(\"##filehere####_logfile.txt\",\"a\") as f: f.write(timestamp + ',' + message + 'n')\n"
   ]
  },
  {
   "cell_type": "code",
   "execution_count": null,
   "id": "f8a8b0df",
   "metadata": {},
   "outputs": [],
   "source": [
    "log(\"ETL Job Started\")"
   ]
  },
  {
   "cell_type": "code",
   "execution_count": null,
   "id": "f3c2d5c3",
   "metadata": {},
   "outputs": [],
   "source": [
    "log(\"Extract phase Started\")\n",
    "extracted_data = extract() \n",
    "log(\"Extract phase Ended\")"
   ]
  },
  {
   "cell_type": "code",
   "execution_count": null,
   "id": "86c91452",
   "metadata": {},
   "outputs": [],
   "source": [
    "log(\"Transform phase Ended\")"
   ]
  },
  {
   "cell_type": "code",
   "execution_count": null,
   "id": "71b2e032",
   "metadata": {},
   "outputs": [],
   "source": [
    "log(\"Load phase Started\")\n",
    "load(targetfile,transformed_data)\n",
    "log(\"Load phase Ended\")"
   ]
  },
  {
   "cell_type": "code",
   "execution_count": null,
   "id": "adb791f1",
   "metadata": {},
   "outputs": [],
   "source": [
    "log(\"ETL Job Ended\")"
   ]
  }
 ],
 "metadata": {
  "kernelspec": {
   "display_name": "Python 3 (ipykernel)",
   "language": "python",
   "name": "python3"
  },
  "language_info": {
   "codemirror_mode": {
    "name": "ipython",
    "version": 3
   },
   "file_extension": ".py",
   "mimetype": "text/x-python",
   "name": "python",
   "nbconvert_exporter": "python",
   "pygments_lexer": "ipython3",
   "version": "3.9.12"
  }
 },
 "nbformat": 4,
 "nbformat_minor": 5
}
